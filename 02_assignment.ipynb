{
 "cells": [
  {
   "cell_type": "markdown",
   "metadata": {},
   "source": [
    "## 두번째 과제입니다.\n",
    "\n",
    "우리는 파이썬 문법 2 파트에서 컨테이너 자료, 반복문, 함수 등에 대해서 배웠습니다.\n",
    "\n",
    "이에 대한 과제를 제공해 드립니다.\n",
    "\n",
    "과제를 하시는 동안 정보검색은 적극 권장됩니다."
   ]
  },
  {
   "cell_type": "markdown",
   "metadata": {},
   "source": [
    "## 컨테이너 자료"
   ]
  },
  {
   "cell_type": "markdown",
   "metadata": {},
   "source": [
    "# Q1\n",
    "\n",
    "num_list 라는 변수에 1~10까지의 숫자를 입력합니다.\n",
    "\n",
    "짝수만 있는 리스트, 홀수만 있는 리스트를 각각 새로운 변수에 할당하고 호출해보세요."
   ]
  },
  {
   "cell_type": "code",
   "execution_count": 126,
   "metadata": {},
   "outputs": [
    {
     "name": "stdout",
     "output_type": "stream",
     "text": [
      "[2, 4, 6, 8, 10]\n",
      "[1, 3, 5, 7, 9]\n"
     ]
    }
   ],
   "source": [
    "# write your code here!!\n",
    "\n",
    "num_list = []\n",
    "\n",
    "for i in range(1, 11):\n",
    "    num_list.append(i)\n",
    "\n",
    "even = []\n",
    "odd = []\n",
    "    \n",
    "for i in num_list:\n",
    "    if i % 2 == 0:\n",
    "        even.append(i)\n",
    "    else :\n",
    "        odd.append(i)\n",
    "        \n",
    "print(even)\n",
    "print(odd)"
   ]
  },
  {
   "cell_type": "markdown",
   "metadata": {},
   "source": [
    "# Q2\n",
    "\n",
    "주어진 두 리스트와 리스트의 연산, 추가, 삭제 등의 함수를 활용해서 다음과 같은 결과를 만들어봅시다.\n",
    "\n",
    "```python\n",
    "\n",
    "name1 = [\"짱구\", \"철수\", \"유리\", \"맹구\", \"훈이\"]\n",
    "name2 = [\"미선\", \"형만\", \"흰둥이\", \"퉁퉁이\", \"도라에몽\"]\n",
    "\n",
    "```\n",
    "\n",
    "결과 : `[\"진구\", \"짱구\", \"철수\", \"맹구\", \"미선\", \"핑핑이\", \"흰둥이\", \"퉁퉁이\", \"도라에몽\", \"비실이\"]`"
   ]
  },
  {
   "cell_type": "code",
   "execution_count": 21,
   "metadata": {},
   "outputs": [
    {
     "data": {
      "text/plain": [
       "['진구', '짱구', '철수', '맹구', '미선', '핑핑이', '흰둥이', '퉁퉁이', '도라에몽', '비실이']"
      ]
     },
     "execution_count": 21,
     "metadata": {},
     "output_type": "execute_result"
    }
   ],
   "source": [
    "# write your code here!!\n",
    "name1 = [\"짱구\", \"철수\", \"유리\", \"맹구\", \"훈이\"]\n",
    "name2 = [\"미선\", \"형만\", \"흰둥이\", \"퉁퉁이\", \"도라에몽\"]\n",
    "\n",
    "name = name1 + name2\n",
    "\n",
    "del name[2]\n",
    "del name[3]\n",
    "name[4] = \"핑핑이\"\n",
    "name.insert(0, \"진구\")\n",
    "name.append(\"비실이\")\n",
    "\n",
    "name"
   ]
  },
  {
   "cell_type": "markdown",
   "metadata": {},
   "source": [
    "# Q3\n",
    "\n",
    "아래 문제를 해결하세요.\n",
    "\n",
    "1. 리스트의 합을 출력하세요.\n",
    "2. 리스트의 평균을 출력하세요\n",
    "3. 리스트에 저장된 데이터 개수를 출력하세요,\n",
    "\n",
    "```python\n",
    "\n",
    "num = [3, 4, 10, 2, 1]\n",
    "```"
   ]
  },
  {
   "cell_type": "code",
   "execution_count": 24,
   "metadata": {},
   "outputs": [
    {
     "name": "stdout",
     "output_type": "stream",
     "text": [
      "20\n",
      "4.0\n",
      "5\n"
     ]
    }
   ],
   "source": [
    "# write your code here!!\n",
    "\n",
    "num = [3, 4, 10, 2, 1]\n",
    "sum = 0\n",
    "\n",
    "for i in num:\n",
    "    sum += i\n",
    "    \n",
    "print(sum)\n",
    "print(sum / len(num))\n",
    "print(len(num))"
   ]
  },
  {
   "cell_type": "markdown",
   "metadata": {},
   "source": [
    "# Q4\n",
    "\n",
    "아래의 리스트를 주어진 결과로 출력해주세요.\n",
    "\n",
    "```python\n",
    "characters = [\"짱구\", \"철수\", \"유리\", \"맹구\", \"훈이\"]\n",
    "```\n",
    "\n",
    "결과 : `짱구&철수&유리&맹구&훈이`\n",
    "\n",
    "<a href=\"https://ourcstory.tistory.com/46\"> 참고자료 </a>"
   ]
  },
  {
   "cell_type": "code",
   "execution_count": 30,
   "metadata": {},
   "outputs": [
    {
     "data": {
      "text/plain": [
       "'짱구&철수&유리&맹구&훈이'"
      ]
     },
     "execution_count": 30,
     "metadata": {},
     "output_type": "execute_result"
    }
   ],
   "source": [
    "# write your code here!!\n",
    "characters = [\"짱구\", \"철수\", \"유리\", \"맹구\", \"훈이\"]\n",
    "\n",
    "character_string = \"&\".join(characters)\n",
    "character_string"
   ]
  },
  {
   "cell_type": "code",
   "execution_count": 38,
   "metadata": {},
   "outputs": [
    {
     "name": "stdout",
     "output_type": "stream",
     "text": [
      "짱구&철수&유리&맹구&훈이\n",
      "['짱구', '철수', '유리', '맹구', '훈이']\n"
     ]
    }
   ],
   "source": [
    "# better\n",
    "print(\"&\".join(characters))\n",
    "print(characters)"
   ]
  },
  {
   "cell_type": "markdown",
   "metadata": {},
   "source": [
    "# Q5.\n",
    "\n",
    "아래의 문자열을 주어진 결과로 출력해주세요.\n",
    "\n",
    "```python\n",
    "name = \"짱구, 철수, 유리, 맹구, 훈이\"\n",
    "```\n",
    "\n",
    "결과1 : `[\"짱구\", \"철수\", \"유리\", \"맹구\", \"훈이\"]`\n",
    "\n",
    "결과2 : `짱구&철수&유리&맹구&훈이`"
   ]
  },
  {
   "cell_type": "code",
   "execution_count": 39,
   "metadata": {},
   "outputs": [
    {
     "name": "stdout",
     "output_type": "stream",
     "text": [
      "['짱구', '철수', '유리', '맹구', '훈이']\n",
      "짱구&철수&유리&맹구&훈이\n"
     ]
    }
   ],
   "source": [
    "# write your code here!!\n",
    "name = \"짱구, 철수, 유리, 맹구, 훈이\"\n",
    "\n",
    "#결과1\n",
    "character = []\n",
    "character.append(name[0:2])\n",
    "character.append(name[4:6])\n",
    "character.append(name[8:10])\n",
    "character.append(name[12:14])\n",
    "character.append(name[16:18])\n",
    "print(character)\n",
    "\n",
    "#결과2\n",
    "print(\"&\".join(characters))"
   ]
  },
  {
   "cell_type": "markdown",
   "metadata": {},
   "source": [
    "# Q6.\n",
    "\n",
    "다음 코드의 결과를 예측해봅니다. 그리고 그 이유를 생각해봅시다.\n",
    "\n",
    "```python\n",
    "characters = [\"짱구\", \"철수\", \"유리\", \"맹구\", \"훈이\"]\n",
    "characters_copy = characters\n",
    "characters_copy[0] = \"도라에몽\"\n",
    "print(characters)\n",
    "```"
   ]
  },
  {
   "cell_type": "code",
   "execution_count": 40,
   "metadata": {},
   "outputs": [
    {
     "name": "stdout",
     "output_type": "stream",
     "text": [
      "['도라에몽', '철수', '유리', '맹구', '훈이']\n"
     ]
    }
   ],
   "source": [
    "# write your code here!!\n",
    "characters = [\"짱구\", \"철수\", \"유리\", \"맹구\", \"훈이\"]\n",
    "characters_copy = characters\n",
    "characters_copy[0] = \"도라에몽\"\n",
    "print(characters)"
   ]
  },
  {
   "cell_type": "markdown",
   "metadata": {},
   "source": [
    "characters_copy 리스트의 0번에 해당하는 변수가 Update 되어서 짱구에서 도라에몽으로 변경됨."
   ]
  },
  {
   "cell_type": "markdown",
   "metadata": {},
   "source": [
    "# Q7.\n",
    "\n",
    "로그인 어플 개발하기 문제\n",
    "\n",
    "user_id = ['red', 'blue', 'green', 'pink']\n",
    "\n",
    "user_pwd = ['123', 'qwe', '456', '789']\n",
    "\n",
    "유저 아이디와 비밀번호는 각각 다음과 같이 주어져 있습니다.\n",
    "\n",
    "사용자에게 아이디와 비밀번호를 input함수로 입력 받고,\n",
    "\n",
    "입력받은 아이디와 비밀번호가 일치하면 '안녕하세요 ~님'을 출력하고\n",
    "\n",
    "아이디는 일치하지만, 비밀번호는 일치하지 않는다면 '비밀번호가 틀렸습니다.'를 출력하고\n",
    "\n",
    "아이디가 일치하지 않는다면 '존재하지 않는 아이디입니다.'를 출력하는 함수를 만들어보고, 정상작동하는지 확인해봅시다.\n",
    "\n",
    "help)\n",
    "\n",
    "인덱스를 찾는 내장함수, 리스트.index(\"요소\")\n",
    "\n",
    "어떤 요소의 존재 여부를 확인하는 방법, in, not in"
   ]
  },
  {
   "cell_type": "code",
   "execution_count": 44,
   "metadata": {},
   "outputs": [
    {
     "name": "stdout",
     "output_type": "stream",
     "text": [
      "new_id = 123\n",
      "new_pwd = ee\n",
      "존재하지 않는 아이디입니다.\n"
     ]
    }
   ],
   "source": [
    "# write your code here!!\n",
    "user_id = ['red', 'blue', 'green', 'pink']\n",
    "user_pwd = ['123', 'qwe', '456', '789']\n",
    "\n",
    "new_id = input(\"new_id = \")\n",
    "new_pwd = input(\"new_pwd = \")\n",
    "\n",
    "if new_id in user_id and new_pwd in user_pwd :\n",
    "    print(f\"안녕하세요 {new_id}님\")\n",
    "\n",
    "elif new_id in user_id and new_pwd not in user_pwd :\n",
    "    print(\"비밀번호가 틀렸습니다.\")\n",
    "    \n",
    "elif new_id not in user_id :\n",
    "    print(\"존재하지 않는 아이디입니다.\")"
   ]
  },
  {
   "cell_type": "markdown",
   "metadata": {},
   "source": [
    "# Q8.\n",
    "\n",
    "다음의 아이디와 비밀번호 데이터를 딕셔너리로 구성하세요.\n",
    "\n",
    "`아이디: ['red', 'blue', 'green', 'pink']`\n",
    "\n",
    "`비밀번호: ['123', 'qwe', '456', '789']`"
   ]
  },
  {
   "cell_type": "code",
   "execution_count": 3,
   "metadata": {},
   "outputs": [],
   "source": [
    "# write your code here!!\n",
    "\n",
    "login = {'red' : '123', 'blue' : 'qwe', 'green' : '456', 'pink' : '789'}"
   ]
  },
  {
   "cell_type": "code",
   "execution_count": 7,
   "metadata": {},
   "outputs": [],
   "source": [
    "user_id = ['red', 'blue', 'green', 'pink']\n",
    "\n",
    "user_pwd = ['123', 'qwe', '456', '789']"
   ]
  },
  {
   "cell_type": "code",
   "execution_count": 8,
   "metadata": {},
   "outputs": [
    {
     "data": {
      "text/plain": [
       "{'red': '123', 'blue': 'qwe', 'green': '456', 'pink': '789'}"
      ]
     },
     "execution_count": 8,
     "metadata": {},
     "output_type": "execute_result"
    }
   ],
   "source": [
    "# Session 1\n",
    "\n",
    "user_info = {}\n",
    "for i in range(len(user_id)):\n",
    "    user_info[user_id[i]] = user_pwd[i]\n",
    "\n",
    "user_info"
   ]
  },
  {
   "cell_type": "code",
   "execution_count": 12,
   "metadata": {},
   "outputs": [
    {
     "name": "stdout",
     "output_type": "stream",
     "text": [
      "<zip object at 0x7f836c009ec0>\n"
     ]
    },
    {
     "data": {
      "text/plain": [
       "{'red': '123', 'blue': 'qwe', 'green': '456', 'pink': '789'}"
      ]
     },
     "execution_count": 12,
     "metadata": {},
     "output_type": "execute_result"
    }
   ],
   "source": [
    "# Session 2\n",
    "\n",
    "print(zip(user_id, user_pwd))\n",
    "dict(zip(user_id, user_pwd))"
   ]
  },
  {
   "cell_type": "markdown",
   "metadata": {},
   "source": [
    "# Q9.\n",
    "\n",
    "Q8.문제에서 만든 딕셔너리에 다음의 데이터를 추가하세요.\n",
    "\n",
    "`아이디: \"black\"`\n",
    "\n",
    "`비밀번호: \"sohot\"`"
   ]
  },
  {
   "cell_type": "code",
   "execution_count": 5,
   "metadata": {},
   "outputs": [
    {
     "data": {
      "text/plain": [
       "{'red': '123', 'blue': 'qwe', 'green': '456', 'pink': '789', 'black': 'sohot'}"
      ]
     },
     "execution_count": 5,
     "metadata": {},
     "output_type": "execute_result"
    }
   ],
   "source": [
    "# write your code here!!\n",
    "\n",
    "login['black'] = \"sohot\"\n",
    "login"
   ]
  },
  {
   "cell_type": "markdown",
   "metadata": {},
   "source": [
    "# Q10.\n",
    "\n",
    "Q8, Q9에서 만든 딕셔너리를 바탕으로 아래를 푸세요.\n",
    "\n",
    "1. blue의 비밀번호를 \"blue123\"으로 변경해주세요.\n",
    "2. black의 정보를 삭제해주세요."
   ]
  },
  {
   "cell_type": "code",
   "execution_count": 6,
   "metadata": {},
   "outputs": [
    {
     "data": {
      "text/plain": [
       "{'red': '123', 'blue': 'blue123', 'green': '456', 'pink': '789'}"
      ]
     },
     "execution_count": 6,
     "metadata": {},
     "output_type": "execute_result"
    }
   ],
   "source": [
    "# write your code here!!\n",
    "\n",
    "login['blue'] = \"blue123\"\n",
    "del login['black']\n",
    "login"
   ]
  },
  {
   "cell_type": "markdown",
   "metadata": {},
   "source": [
    "# Q11.\n",
    "\n",
    "딕셔너리를 사용한 로그인 어플 개발하기 문제\n",
    "\n",
    "user_info = {'red': '123', 'blue': 'blue123', 'green': '456', 'pink': '789'}\n",
    "\n",
    "사용자 정보가 위와 같이 주어질때, 로그인 문제를 풀어보세요. 문제는 위의 `Q7.` 문제와 같습니다."
   ]
  },
  {
   "cell_type": "code",
   "execution_count": 50,
   "metadata": {},
   "outputs": [
    {
     "name": "stdout",
     "output_type": "stream",
     "text": [
      "new_id = red1\n",
      "new_pwd = qe\n",
      "존재하지 않는 아이디입니다.\n"
     ]
    }
   ],
   "source": [
    "# write your code here!!\n",
    "user_info = {'red': '123', 'blue': 'blue123', 'green': '456', 'pink': '789'}\n",
    "\n",
    "new_id = input(\"new_id = \")\n",
    "new_pwd = input(\"new_pwd = \")\n",
    "\n",
    "if new_id in list(user_info.keys()) and new_pwd in list(user_info.values()) :\n",
    "    print(f\"안녕하세요 {new_id}님\")\n",
    "\n",
    "elif new_id in list(user_info.keys()) and new_pwd not in list(user_info.values()) :\n",
    "    print(\"비밀번호가 틀렸습니다.\")\n",
    "    \n",
    "elif new_id not in list(user_info.keys()) :\n",
    "    print(\"존재하지 않는 아이디입니다.\")"
   ]
  },
  {
   "cell_type": "markdown",
   "metadata": {},
   "source": [
    "## 반복문(while, for)"
   ]
  },
  {
   "cell_type": "markdown",
   "metadata": {},
   "source": [
    "# Q12.\n",
    "\n",
    "1~10까지의 숫자를 입력받고, 입력 받은 숫자가 홀수인지 짝수인지 판별하는 코드를 작성해보세요.\n",
    "\n",
    "단, 1~10까지의 숫자가 아니라면 다시 입력을 받아야합니다."
   ]
  },
  {
   "cell_type": "code",
   "execution_count": 59,
   "metadata": {},
   "outputs": [
    {
     "name": "stdout",
     "output_type": "stream",
     "text": [
      "enter random number = 11\n",
      "enter random number = 11\n",
      "enter random number = 11\n",
      "enter random number = 11\n",
      "enter random number = 14\n",
      "enter random number = 10\n",
      "even\n"
     ]
    }
   ],
   "source": [
    "# write your code here!!\n",
    "num = int(input(\"enter random number = \"))\n",
    "\n",
    "while num not in range(1,11):\n",
    "    num = int(input(\"enter random number = \"))\n",
    "if num % 2 == 0:\n",
    "    print(\"even\")\n",
    "else:\n",
    "    print(\"odd\")"
   ]
  },
  {
   "cell_type": "markdown",
   "metadata": {},
   "source": [
    "# Q13.\n",
    "\n",
    "다음과 같은 리스트가 주어졌을 때, 캐릭터의 이름과 캐릭터 글자수를 출력하세요.\n",
    "\n",
    "```python\n",
    "\n",
    "characters = [\"사고뭉치 짱구\", \"시크한 철수\", \"화난유리\", \"코맹맹이 맹구\", \"쫄보 훈이\"]\n",
    "\n",
    "```\n",
    "\n",
    "결과예시\n",
    "\n",
    "`사고뭉치 짱구 7`\n",
    "\n",
    "`시크한 철수 6`\n",
    "\n",
    "~~"
   ]
  },
  {
   "cell_type": "code",
   "execution_count": 61,
   "metadata": {},
   "outputs": [
    {
     "name": "stdout",
     "output_type": "stream",
     "text": [
      "사고뭉치 짱구 7\n",
      "시크한 철수 6\n",
      "화난유리 4\n",
      "코맹맹이 맹구 7\n",
      "쫄보 훈이 5\n"
     ]
    }
   ],
   "source": [
    "# write your code here!!\n",
    "characters = [\"사고뭉치 짱구\", \"시크한 철수\", \"화난유리\", \"코맹맹이 맹구\", \"쫄보 훈이\"]\n",
    "\n",
    "for i in characters:\n",
    "    print(f\"{i} {len(i)}\")"
   ]
  },
  {
   "cell_type": "markdown",
   "metadata": {},
   "source": [
    "# Q14.\n",
    "\n",
    "반복문을 사용해서, num에서 홀수만 출력하는 코드를 만드세요.\n",
    "\n",
    "```pyhon\n",
    "num = [1,2,3,4,5,6,7,8,9,10]\n",
    "```"
   ]
  },
  {
   "cell_type": "code",
   "execution_count": 65,
   "metadata": {},
   "outputs": [
    {
     "name": "stdout",
     "output_type": "stream",
     "text": [
      "1\n",
      "3\n",
      "5\n",
      "7\n",
      "9\n"
     ]
    }
   ],
   "source": [
    "# write your code here!!\n",
    "num = [1,2,3,4,5,6,7,8,9,10]\n",
    "\n",
    "for i in num:\n",
    "    if int(i) % 2 == 1:\n",
    "        print(f\"{i}\")"
   ]
  },
  {
   "cell_type": "markdown",
   "metadata": {},
   "source": [
    "# Q15.\n",
    "\n",
    "반복문을 사용해서, Q14.의 num에서 `1, 2, 3을 제외하고` 출력해주세요."
   ]
  },
  {
   "cell_type": "code",
   "execution_count": 66,
   "metadata": {},
   "outputs": [
    {
     "name": "stdout",
     "output_type": "stream",
     "text": [
      "4\n",
      "5\n",
      "6\n",
      "7\n",
      "8\n",
      "9\n",
      "10\n"
     ]
    }
   ],
   "source": [
    "# write your code here!!\n",
    "num = [1,2,3,4,5,6,7,8,9,10]\n",
    "\n",
    "for i in num[3::]:\n",
    "    print(f\"{i}\")"
   ]
  },
  {
   "cell_type": "markdown",
   "metadata": {},
   "source": [
    "# Q16\n",
    "아래의 num 리스트를 결과와 같이 바꿔주세요.\n",
    "\n",
    "```python\n",
    "num = [12.5, 33.03, 20.78, 35.12]```\n",
    "\n",
    "결과: `[12, 33, 20, 35]`"
   ]
  },
  {
   "cell_type": "code",
   "execution_count": 69,
   "metadata": {},
   "outputs": [
    {
     "data": {
      "text/plain": [
       "[12, 33, 20, 35]"
      ]
     },
     "execution_count": 69,
     "metadata": {},
     "output_type": "execute_result"
    }
   ],
   "source": [
    "# write your code here!!\n",
    "import math\n",
    "\n",
    "num = [12.5, 33.03, 20.78, 35.12]\n",
    "\n",
    "n = 0\n",
    "for i in num:\n",
    "    num[n] = math.floor(i)\n",
    "    n += 1\n",
    "    \n",
    "num"
   ]
  },
  {
   "cell_type": "markdown",
   "metadata": {},
   "source": [
    "# Q17.\n",
    "\n",
    "김철수씨는 회사에서 문서분류 직무를 맡고 있다. 김계란씨는 일일이 문서 확장자를 확인하며 같은 확장자끼리 분류했다. 문서분류량이 엄청난 날에는 야근하기가 일쑤였다.\n",
    "\n",
    "이대로는 안돼겠다고 생각한 김철수씨는 최근에 프로그래밍을 배우기 시작했다.\n",
    "\n",
    "프로그래밍을 배우고 난 뒤로부터는 매일 칼퇴근을 하고 취미생활까지 할 여유가 생겼다고 한다.\n",
    "\n",
    "김철수씨가 평소 하는 일은 다음과 같다.\n",
    "\n",
    "1. 김철수씨의 회사엔 `txt, py, java`  이렇게 3가지의 파일이 존재한다.\n",
    "2. 김철수씨는 확장자가 같은 파일을 동일한 리스트에 보관한다.\n",
    "\n",
    "```python\n",
    "messy_files = [\"wow.py\", \"test.txt\", \"haha.java\", \"really_final.py\", \"real_really_final.java\", \"test2.py\", \"whatthef.txt\"]\n",
    "```\n",
    "\n",
    "햇살 좋은 어느날, 김철수씨는 직장 상사 유상사씨로부터 `messy_files`를 분류해달라는 부탁을 받았다. 김철수씨는 피식 웃으며 자신감있게 도와주겠다고 말했다.\n",
    "\n",
    "문제 : 김철수씨의 체면이 구겨지지 않도록 `txt, py, java` 각각 확장자에 따라 text, python, java라는 변수명을 가진 리스트에 분류하는 코드를 작성해주세요."
   ]
  },
  {
   "cell_type": "code",
   "execution_count": 14,
   "metadata": {
    "scrolled": true
   },
   "outputs": [
    {
     "name": "stdout",
     "output_type": "stream",
     "text": [
      "['wow.py', 'really_final.py', 'test2.py']\n",
      "['test.txt', 'whatthef.txt']\n",
      "['haha.java', 'real_really_final.java']\n"
     ]
    }
   ],
   "source": [
    "# QnA : Split 함수는 특정 문자열을 기준으로 전체 문자열을 나눠주는 역할, 확장자부분만 끌어오기\n",
    "\n",
    "# write your code here!!\n",
    "messy_files = [\"wow.py\", \"test.txt\", \"haha.java\", \"really_final.py\", \"real_really_final.java\", \"test2.py\", \"whatthef.txt\"]\n",
    "\n",
    "# 'py' in messy_files[0].split(\".\", 2)\n",
    "\n",
    "py = []\n",
    "txt = []\n",
    "java = []\n",
    "\n",
    "for i in messy_files:\n",
    "    if 'py' in i.split(\".\", 2):\n",
    "        py.append(i)\n",
    "    elif 'txt' in i.split(\".\", 2):\n",
    "        txt.append(i)\n",
    "    else:\n",
    "        java.append(i)\n",
    "\n",
    "print(py)\n",
    "print(txt)\n",
    "print(java)"
   ]
  },
  {
   "cell_type": "code",
   "execution_count": 22,
   "metadata": {},
   "outputs": [
    {
     "data": {
      "text/plain": [
       "(['wow.py', 'really_final.py', 'test2.py'],\n",
       " ['haha.java', 'real_really_final.java'],\n",
       " ['test.txt', 'whatthef.txt'])"
      ]
     },
     "execution_count": 22,
     "metadata": {},
     "output_type": "execute_result"
    }
   ],
   "source": [
    "# Session\n",
    "\n",
    "py = []\n",
    "java = []\n",
    "txt = []\n",
    "\n",
    "# find function\n",
    "\n",
    "#start_point = messy_files[0].find(\".\")\n",
    "#\n",
    "#messy_files[0][start_point+1:]\n",
    "#\n",
    "#for file_name in messy_files:\n",
    "#    start_point = file_name.find(\".\")+1\n",
    "#    classification = file_name[start_point:]\n",
    "#    \n",
    "#    if classification == \"py\":\n",
    "#        py.append(file_name)\n",
    "#    elif classification == \"txt\":\n",
    "#        txt.append(file_name)\n",
    "#    else :\n",
    "#        java.append(file_name)\n",
    "\n",
    "# split\n",
    "\n",
    "for file_name in messy_files:\n",
    "    classification = file_name.split(\".\")[1]\n",
    "    \n",
    "    if classification == \"py\":\n",
    "        py.append(file_name)\n",
    "    elif classification == \"txt\":\n",
    "        txt.append(file_name)\n",
    "    else :\n",
    "        java.append(file_name)\n",
    "\n",
    "py, java, txt"
   ]
  },
  {
   "cell_type": "markdown",
   "metadata": {},
   "source": [
    "# Q18.\n",
    "\n",
    "for문의 중첩을 활용해서\n",
    "\n",
    "`1, 2, 3, 4`\n",
    "\n",
    "`5, 6, 7, 8`\n",
    "\n",
    "`9, 10, 11, 12`\n",
    "\n",
    "`13, 14, 15, 16`\n",
    "\n",
    "위와 같은 결과를 만들어 봅시다!\n",
    "\n",
    "```python\n",
    "# 참고\n",
    "for row in range(4): # 행의 갯수와\n",
    "    # 빈 리스트를 만들고\n",
    "    for col in range(4): #열의 갯수만큼 반복합니다.\n",
    "        # 각 요소는 row와 col과 어떤 관계가 있을까요? \n",
    "```"
   ]
  },
  {
   "cell_type": "code",
   "execution_count": 31,
   "metadata": {},
   "outputs": [
    {
     "data": {
      "text/plain": [
       "4"
      ]
     },
     "execution_count": 31,
     "metadata": {},
     "output_type": "execute_result"
    }
   ],
   "source": [
    "len(range(4))"
   ]
  },
  {
   "cell_type": "code",
   "execution_count": 111,
   "metadata": {},
   "outputs": [
    {
     "name": "stdout",
     "output_type": "stream",
     "text": [
      "1,2,3,4\n",
      "5,6,7,8\n",
      "9,10,11,12\n",
      "13,14,15,16\n"
     ]
    }
   ],
   "source": [
    "# write your code here!! # hard\n",
    "\n",
    "for row in range(1, 14, 4):\n",
    "    for col in range(row, row + 3):\n",
    "        print(f\"{col}\", end = ',')\n",
    "    print(f\"{row + 3}\")"
   ]
  },
  {
   "cell_type": "code",
   "execution_count": 23,
   "metadata": {},
   "outputs": [
    {
     "name": "stdout",
     "output_type": "stream",
     "text": [
      "[1, 2, 3, 4]\n",
      "[5, 6, 7, 8]\n",
      "[9, 10, 11, 12]\n",
      "[13, 14, 15, 16]\n"
     ]
    }
   ],
   "source": [
    "# Session\n",
    "\n",
    "for row in range(4):\n",
    "    a = []\n",
    "    for col in range(4):\n",
    "        attribute = 4 * row + col + 1\n",
    "        a.append(attribute)\n",
    "    print(a)"
   ]
  },
  {
   "cell_type": "markdown",
   "metadata": {},
   "source": [
    "# Q19.\n",
    "\n",
    "사용자로부터 `1~9`정수를 입력 받습니다.\n",
    "그리고 입력 받은 정수에 해당하는 구구단을 만들어봅시다.\n",
    "\n",
    "`단, 입력값은 무조건 정수라고 가정합니다.\n",
    " 단, 1~9 정수가 아니면 다시 입력을 받아야합니다.`\n",
    "\n",
    "```python\n",
    "\n",
    "# 실행 예시\n",
    "\n",
    "1~9 정수를 입력하세요 : 10\n",
    "1~9 정수를 입력하세요 : 20\n",
    "1~9 정수를 입력하세요 : 5\n",
    "5*1 = 5\n",
    "5*2 = 10\n",
    "~~\n",
    "5*9 = 45\n",
    " \n",
    "\n",
    "```"
   ]
  },
  {
   "cell_type": "code",
   "execution_count": 96,
   "metadata": {},
   "outputs": [
    {
     "name": "stdout",
     "output_type": "stream",
     "text": [
      "1~9 정수를 입력하세요 : 12\n",
      "1~9 정수를 입력하세요 : 12\n",
      "1~9 정수를 입력하세요 : 12\n",
      "1~9 정수를 입력하세요 : 9\n",
      "9*1 = 9\n",
      "9*2 = 18\n",
      "9*3 = 27\n",
      "9*4 = 36\n",
      "9*5 = 45\n",
      "9*6 = 54\n",
      "9*7 = 63\n",
      "9*8 = 72\n",
      "9*9 = 81\n"
     ]
    }
   ],
   "source": [
    "# write your code here!!\n",
    "n = int(input(\"1~9 정수를 입력하세요 : \"))\n",
    "\n",
    "while n not in range (1, 10):\n",
    "    n = int(input(\"1~9 정수를 입력하세요 : \"))\n",
    "    \n",
    "if n in range (1, 10):\n",
    "    for i in range(1, 10):\n",
    "        print(f\"{n}*{i} = {n*i}\")"
   ]
  },
  {
   "cell_type": "markdown",
   "metadata": {},
   "source": [
    "# Q20.\n",
    "\n",
    "새로온 기계는 `N`개! 이라고 외치면 `N`개의 빵을 순식간에 만드는 기능이 있다고 합니다.\n",
    "\n",
    "`단, 한번에 100개 초과는 힘들다고 합니다. 즉, 1~100 사이의 정수를 입력 받아야 합니다.`\n",
    "\n",
    "```python\n",
    "\n",
    "# 실행 예시\n",
    "\n",
    "몇 개를 만들까요? -1\n",
    "몇 개를 만들까요? 120\n",
    "몇 개를 만들까요? 3\n",
    "빵 1개\n",
    "빵 2개\n",
    "빵 3개\n",
    "```"
   ]
  },
  {
   "cell_type": "code",
   "execution_count": 100,
   "metadata": {
    "scrolled": false
   },
   "outputs": [
    {
     "name": "stdout",
     "output_type": "stream",
     "text": [
      "몇 개를 만들까요? : 120\n",
      "몇 개를 만들까요? : 110\n",
      "몇 개를 만들까요? : -1\n",
      "몇 개를 만들까요? : 2\n",
      "빵 1개\n",
      "빵 2개\n"
     ]
    }
   ],
   "source": [
    "# write your code here!!\n",
    "n = int(input(\"몇 개를 만들까요? : \"))\n",
    "\n",
    "while n not in range (1, 101):\n",
    "    n = int(input(\"몇 개를 만들까요? : \"))\n",
    "    \n",
    "if n in range (1, 101):\n",
    "    for i in range(1, n+1):\n",
    "        print(f\"빵 {i}개\")"
   ]
  },
  {
   "cell_type": "code",
   "execution_count": 26,
   "metadata": {},
   "outputs": [
    {
     "name": "stdout",
     "output_type": "stream",
     "text": [
      "몇 개를 만들까요?err\n"
     ]
    }
   ],
   "source": [
    "# Session 1\n",
    "\n",
    "try:\n",
    "\n",
    "    num = 0 # initial\n",
    "\n",
    "    while num < 1 or num > 100: # exit\n",
    "        num = int(input(\"몇 개를 만들까요?\"))\n",
    "\n",
    "except ValueError:\n",
    "    pass\n",
    "        \n",
    "for i in range(num):\n",
    "    print(f\"빵 {i+1}개\")"
   ]
  },
  {
   "cell_type": "code",
   "execution_count": 27,
   "metadata": {},
   "outputs": [
    {
     "name": "stdout",
     "output_type": "stream",
     "text": [
      "몇 개를 만들까요?121\n",
      "몇 개를 만들까요?11\n",
      "빵 1개\n",
      "빵 2개\n",
      "빵 3개\n",
      "빵 4개\n",
      "빵 5개\n",
      "빵 6개\n",
      "빵 7개\n",
      "빵 8개\n",
      "빵 9개\n",
      "빵 10개\n",
      "빵 11개\n"
     ]
    }
   ],
   "source": [
    "# Session 2\n",
    "\n",
    "def 빵공장():\n",
    "    num = 0 # initial\n",
    "\n",
    "    while num < 1 or num > 100: # exit\n",
    "        num = int(input(\"몇 개를 만들까요?\"))\n",
    "\n",
    "    for i in range(num):\n",
    "        print(f\"빵 {i+1}개\")\n",
    "        \n",
    "    return\n",
    "\n",
    "빵공장()"
   ]
  },
  {
   "cell_type": "markdown",
   "metadata": {},
   "source": [
    "# 함수"
   ]
  },
  {
   "cell_type": "markdown",
   "metadata": {},
   "source": [
    "# Q21.\n",
    "\n",
    "다음 조건에 맞는 함수를 작성하세요.\n",
    "\n",
    "```함수명: y\n",
    "input: x (단, x는 실수 ex, 1, 1.2, 5, 100)\n",
    "output:2x+1 ```"
   ]
  },
  {
   "cell_type": "code",
   "execution_count": 24,
   "metadata": {},
   "outputs": [],
   "source": [
    "# write your code here!!\n",
    "def y(x):\n",
    "    return 2 * x + 1"
   ]
  },
  {
   "cell_type": "code",
   "execution_count": 25,
   "metadata": {},
   "outputs": [
    {
     "data": {
      "text/plain": [
       "3.4"
      ]
     },
     "execution_count": 25,
     "metadata": {},
     "output_type": "execute_result"
    }
   ],
   "source": [
    "y(1.2)"
   ]
  },
  {
   "cell_type": "markdown",
   "metadata": {},
   "source": [
    "# Q22.\n",
    "\n",
    "빵 이름과 갯수를 입력 매개변수(parameter)로 하는 함수를 만들어서 실행 해보세요. 단, 갯수을 입력하지 않으면 자동으로 주어진 종류의 빵을 3개를 만드는 함수를 만들어야합니다.\n",
    "\n",
    "<a href =\"http://studymake.blogspot.com/2015/05/default-parameter.html\">참고자료</a>\n",
    "\n",
    "\n",
    "`hint`\n",
    "```python\n",
    "# 다음과 같이 매개변수에 기본값을 지정할 수 있습니다.\n",
    "def func(a=\"default\"):\n",
    "~~\n",
    "```\n",
    "\n",
    "```python\n",
    "\n",
    "# 실행예시\n",
    "\n",
    "exercise(\"초코빵\", 2)\n",
    "    초코빵(을)를 1개 만들었습니다.\n",
    "    초코빵(을)를 2개 만들었습니다.\n",
    "    작업을 끝냈습니다.\n",
    "    \n",
    "exercise(\"크림빵\")\n",
    "    크림빵(을)를 1개 만들었습니다.\n",
    "    크림빵(을)를 2개 만들었습니다.\n",
    "    크림빵(을)를 3개 만들었습니다.\n",
    "    작업을 끝냈습니다.\n",
    "    \n",
    "```"
   ]
  },
  {
   "cell_type": "code",
   "execution_count": 103,
   "metadata": {},
   "outputs": [
    {
     "name": "stdout",
     "output_type": "stream",
     "text": [
      "초코빵(을)(를) 1개 만들었습니다.\n",
      "초코빵(을)(를) 2개 만들었습니다.\n",
      "작업을 끝냈습니다.\n",
      "크림빵(을)(를) 1개 만들었습니다.\n",
      "크림빵(을)(를) 2개 만들었습니다.\n",
      "크림빵(을)(를) 3개 만들었습니다.\n",
      "작업을 끝냈습니다.\n"
     ]
    }
   ],
   "source": [
    "# write your code here!!\n",
    "def bread(x, y = 3):\n",
    "    for i in range(1, y + 1):\n",
    "        print(f\"{x}(을)(를) {i}개 만들었습니다.\")\n",
    "    print(\"작업을 끝냈습니다.\")\n",
    "\n",
    "bread(\"초코빵\", 2)\n",
    "\n",
    "bread(\"크림빵\")"
   ]
  },
  {
   "cell_type": "markdown",
   "metadata": {},
   "source": [
    "# Q23.\n",
    "\n",
    "정렬되지 않은 리스트를 매개변수로 전달했을 때, 정렬된 리스트가 반환되는 함수를 작성하세요.\n",
    "\n",
    "```python\n",
    "\n",
    "# 실행 예시\n",
    "\n",
    "unordered = [5, 4, 2 ,10, 7, 3]\n",
    "sorting(unordered)\n",
    "    \n",
    "    [2, 3, 4, 5, 7, 10]\n",
    "```"
   ]
  },
  {
   "cell_type": "code",
   "execution_count": 7,
   "metadata": {},
   "outputs": [
    {
     "name": "stdout",
     "output_type": "stream",
     "text": [
      "[2, 3, 4, 5, 7, 10]\n"
     ]
    }
   ],
   "source": [
    "# write your code here!!\n",
    "unordered = [5, 4, 2 ,10, 7, 3]\n",
    "\n",
    "print(sorted(unordered))"
   ]
  },
  {
   "cell_type": "markdown",
   "metadata": {},
   "source": [
    "# Q24.\n",
    "\n",
    "\n",
    "함수에 두 개의 숫자를 전달 했을 때 사칙연산(더하기, 빼기, 곱하기, 나누기)을 수행하는 함수를 만드세요.\n",
    "\n",
    "`(함수명, 변수명 등은 자유롭게)`"
   ]
  },
  {
   "cell_type": "code",
   "execution_count": 54,
   "metadata": {},
   "outputs": [
    {
     "name": "stdout",
     "output_type": "stream",
     "text": [
      "a = 1\n",
      "b = 2\n",
      "3\n",
      "-1\n",
      "2\n",
      "0.5\n"
     ]
    }
   ],
   "source": [
    "# write your code here!!\n",
    "\n",
    "def Rule(a, b):\n",
    "    print(a + b)\n",
    "    print(a - b)\n",
    "    print(a * b)\n",
    "    print(a / b)\n",
    "\n",
    "a = int(input(\"a = \"))\n",
    "b = int(input(\"b = \"))\n",
    "\n",
    "Rule(a, b)"
   ]
  },
  {
   "cell_type": "markdown",
   "metadata": {},
   "source": [
    "# Q25.\n",
    "\n",
    "다음의 조건에 맞는 함수를 작성하세요.\n",
    "\n",
    "1. 함수명: email_classification\n",
    "2. input: 이메일 주소 리스트 (ex, `[abc132@naver.com, wow880@gmail.com, hahahahaha@naver.com]`)\n",
    "3. ouput: key값이 메일사이트(naver, gmail), value가 id리스트인 딕셔너리\n",
    "\n",
    "\n",
    "`단, 메일 사이트는 naver와 gamail 두개 밖에 존재하지 않는다고 가정한다.`\n",
    "\n",
    "```python\n",
    "\n",
    "#실행예시\n",
    "\n",
    "email_claissification(['abc132@naver.com', 'wow880@gmail.com', 'hahahahaha@naver.com'])\n",
    "\n",
    "# 결과\n",
    "{'naver':['abc123', 'hahahahahaha'], 'gmail':['wow880']}\n",
    "    \n",
    "\n",
    "\n",
    "```"
   ]
  },
  {
   "cell_type": "code",
   "execution_count": 121,
   "metadata": {},
   "outputs": [
    {
     "data": {
      "text/plain": [
       "{'naver': 'hahahahaha', 'gmail': 'wow880'}"
      ]
     },
     "execution_count": 121,
     "metadata": {},
     "output_type": "execute_result"
    }
   ],
   "source": [
    "# practice\n",
    "\n",
    "input = ['abc132@naver.com', 'wow880@gmail.com', 'hahahahaha@naver.com']\n",
    "output = {}\n",
    "\n",
    "#'naver.com' in input[0].split(\"@\", 2)\n",
    "\n",
    "for i in input:\n",
    "    if 'naver.com' in i.split(\"@\", 2):\n",
    "            output['naver'] = i.split(\"@\", 2)[0]\n",
    "    if 'gmail.com' in i.split(\"@\", 2):\n",
    "            output['gmail'] = i.split(\"@\", 2)[0]\n",
    "            \n",
    "output"
   ]
  },
  {
   "cell_type": "code",
   "execution_count": 125,
   "metadata": {},
   "outputs": [
    {
     "data": {
      "text/plain": [
       "{'naver': ['abc132', 'hahahahaha'], 'gmail': ['wow880']}"
      ]
     },
     "execution_count": 125,
     "metadata": {},
     "output_type": "execute_result"
    }
   ],
   "source": [
    "# write your code here!!\n",
    "\n",
    "def email_classification(x, y):\n",
    "    naver = []\n",
    "    gmail = []\n",
    "    \n",
    "    for i in x:\n",
    "        if 'naver.com' in i.split(\"@\", 2):\n",
    "            naver.append(i.split(\"@\", 2)[0])\n",
    "        if 'gmail.com' in i.split(\"@\", 2):\n",
    "            gmail.append(i.split(\"@\", 2)[0])\n",
    "    \n",
    "    y['naver'] = naver\n",
    "    y['gmail'] = gmail\n",
    "    \n",
    "    return y\n",
    "\n",
    "input = ['abc132@naver.com', 'wow880@gmail.com', 'hahahahaha@naver.com']\n",
    "output = {}\n",
    "\n",
    "email_classification(input, output)"
   ]
  },
  {
   "cell_type": "code",
   "execution_count": 35,
   "metadata": {},
   "outputs": [
    {
     "data": {
      "text/plain": [
       "{'gmail': ['wow880'], 'naver': ['abc132', 'hahahahaha']}"
      ]
     },
     "execution_count": 35,
     "metadata": {},
     "output_type": "execute_result"
    }
   ],
   "source": [
    "# Session\n",
    "\n",
    "def email_classification(email_list):\n",
    "    \n",
    "    result = {}\n",
    "    user_id_list_naver = []\n",
    "    user_id_list_gmail = []\n",
    "    \n",
    "    for email in email_list:\n",
    "        user_id = email.split('@')[0]\n",
    "        mail_site = email.split('@')[1].split(\".\")[0]\n",
    "        \n",
    "        if mail_site == \"gmail\":\n",
    "            user_id_list_gmail.append(user_id)\n",
    "        else:\n",
    "            user_id_list_naver.append(user_id)\n",
    "    \n",
    "    result['gmail'] = user_id_list_gmail\n",
    "    result['naver'] = user_id_list_naver\n",
    "    \n",
    "    return result\n",
    "\n",
    "email_classification(['abc132@naver.com', 'wow880@gmail.com', 'hahahahaha@naver.com'])"
   ]
  }
 ],
 "metadata": {
  "kernelspec": {
   "display_name": "Python 3",
   "language": "python",
   "name": "python3"
  },
  "language_info": {
   "codemirror_mode": {
    "name": "ipython",
    "version": 3
   },
   "file_extension": ".py",
   "mimetype": "text/x-python",
   "name": "python",
   "nbconvert_exporter": "python",
   "pygments_lexer": "ipython3",
   "version": "3.8.5"
  }
 },
 "nbformat": 4,
 "nbformat_minor": 2
}
